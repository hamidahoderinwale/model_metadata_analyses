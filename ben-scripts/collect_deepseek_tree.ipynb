{
 "cells": [
  {
   "cell_type": "markdown",
   "metadata": {},
   "source": [
    "# Collecting Model Tree for DeepSeek-V3\n",
    "\n",
    "This notebook uses the `HuggingFaceModelCollector` class to recursively collect information about the DeepSeek-V3 model and all its descendants."
   ]
  },
  {
   "cell_type": "code",
   "execution_count": null,
   "metadata": {},
   "outputs": [
    {
     "ename": "",
     "evalue": "",
     "output_type": "error",
     "traceback": [
      "\u001b[1;31mRunning cells with '.conda (Python 3.9.21)' requires the ipykernel package.\n",
      "\u001b[1;31mRun the following command to install 'ipykernel' into the Python environment. \n",
      "\u001b[1;31mCommand: 'conda install -p /Users/benjaminlaufer/Python Projects/hugging-face-data-collection/.conda ipykernel --update-deps --force-reinstall'"
     ]
    }
   ],
   "source": [
    "from collect_huggingface_models import HuggingFaceModelCollector\n",
    "import pandas as pd\n",
    "import matplotlib.pyplot as plt\n",
    "import seaborn as sns"
   ]
  },
  {
   "cell_type": "markdown",
   "metadata": {},
   "source": [
    "## Initialize the Collector and Collect Model Tree"
   ]
  },
  {
   "cell_type": "code",
   "execution_count": null,
   "metadata": {},
   "outputs": [],
   "source": [
    "# Initialize the collector\n",
    "collector = HuggingFaceModelCollector()\n",
    "\n",
    "# Define the base model and output file\n",
    "base_model_id = \"deepseek-ai/DeepSeek-V3\"\n",
    "output_file = \"tree_info_deepseek-ai/DeepSeek-V3.csv\"\n",
    "\n",
    "# Collect the model tree\n",
    "collector.collect_model_tree(base_model_id, output_file)"
   ]
  },
  {
   "cell_type": "markdown",
   "metadata": {},
   "source": [
    "## Load and Analyze the Collected Data"
   ]
  },
  {
   "cell_type": "code",
   "execution_count": null,
   "metadata": {},
   "outputs": [],
   "source": [
    "# Load the collected data\n",
    "df = pd.read_csv(output_file)\n",
    "\n",
    "# Display basic information about the collected models\n",
    "print(f\"Total number of models in the tree: {len(df)}\")\n",
    "print(\"\\nSample of collected data:\")\n",
    "display(df.head())\n",
    "\n",
    "# Display summary statistics\n",
    "print(\"\\nSummary statistics:\")\n",
    "display(df.describe())"
   ]
  },
  {
   "cell_type": "markdown",
   "metadata": {},
   "source": [
    "## Visualize the Model Tree"
   ]
  },
  {
   "cell_type": "code",
   "execution_count": null,
   "metadata": {},
   "outputs": [],
   "source": [
    "# Create a simple visualization of model relationships\n",
    "plt.figure(figsize=(15, 8))\n",
    "\n",
    "# Plot downloads vs likes\n",
    "plt.scatter(df['downloads'], df['likes'], alpha=0.6)\n",
    "plt.xlabel('Downloads')\n",
    "plt.ylabel('Likes')\n",
    "plt.title('Downloads vs Likes for Models in DeepSeek-V3 Tree')\n",
    "plt.xscale('log')\n",
    "plt.yscale('log')\n",
    "plt.grid(True, alpha=0.3)\n",
    "plt.show()"
   ]
  },
  {
   "cell_type": "markdown",
   "metadata": {},
   "source": [
    "## Analyze Model Types and Tags"
   ]
  },
  {
   "cell_type": "code",
   "execution_count": null,
   "metadata": {},
   "outputs": [],
   "source": [
    "# Analyze library distribution\n",
    "library_counts = df['library_name'].value_counts()\n",
    "print(\"Library distribution:\")\n",
    "display(library_counts)\n",
    "\n",
    "# Analyze pipeline tags\n",
    "pipeline_counts = df['pipeline_tag'].value_counts()\n",
    "print(\"\\nPipeline tag distribution:\")\n",
    "display(pipeline_counts)"
   ]
  }
 ],
 "metadata": {
  "kernelspec": {
   "display_name": "Python 3",
   "language": "python",
   "name": "python3"
  },
  "language_info": {
   "codemirror_mode": {
    "name": "ipython",
    "version": 3
   },
   "file_extension": ".py",
   "mimetype": "text/x-python",
   "name": "python",
   "nbconvert_exporter": "python",
   "pygments_lexer": "ipython3",
   "version": "3.9.21"
  }
 },
 "nbformat": 4,
 "nbformat_minor": 4
}
