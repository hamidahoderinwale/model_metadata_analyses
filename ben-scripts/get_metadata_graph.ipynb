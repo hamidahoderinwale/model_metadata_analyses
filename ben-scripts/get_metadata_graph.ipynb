{
 "cells": [
  {
   "cell_type": "markdown",
   "id": "50fd3070",
   "metadata": {},
   "source": [
    "# Get metadata graph\n",
    "\n",
    "Here we get the AI ecosystem graph for the metadata similarity analysis. This is a networkx network where every node is a model in the AI ecosystem and every edge is a relation including finetunes, quantizations, and adapters, *but not merges*. Thus, the graph is a tree.\n",
    "\n",
    "We define the following attribute over the nodes: the fullJson of all metadata. We will pickle this graph and use it for other analyses later."
   ]
  },
  {
   "cell_type": "code",
   "execution_count": 6,
   "id": "9c06ad59",
   "metadata": {},
   "outputs": [],
   "source": [
    "import numpy as np\n",
    "import pandas as pd\n",
    "import networkx as nx\n",
    "import pickle"
   ]
  },
  {
   "cell_type": "code",
   "execution_count": null,
   "id": "9e2228d9",
   "metadata": {},
   "outputs": [],
   "source": [
    "# Read the json dataset\n",
    "df = pd.read_csv(\"data/ai_ecosystem_jsons.csv\")\n",
    "\n",
    "# Get also the already-defined graph\n",
    "with open('data/ai_ecosystem_graph_nomerges.pkl', 'rb') as f:\n",
    "    G = pickle.load(f)"
   ]
  },
  {
   "cell_type": "code",
   "execution_count": 5,
   "id": "bf5b5d5a",
   "metadata": {},
   "outputs": [],
   "source": [
    "# For every row in df, append the fullJson from the df to the node in G\n",
    "for index, row in df.iterrows():\n",
    "    model_id = row['modelId']\n",
    "    G.nodes[model_id]['full_json'] = row['fullJson']\n",
    "\n",
    "# Save the graph\n",
    "with open('data/ai_ecosystem_graph_nomerges_fulljson.pkl', 'wb') as f:\n",
    "    pickle.dump(G, f)"
   ]
  },
  {
   "cell_type": "code",
   "execution_count": 8,
   "id": "f9ebb2f0",
   "metadata": {},
   "outputs": [],
   "source": [
    "# Get also the already-defined graph\n",
    "with open('data/ai_ecosystem_graph_finetune.pkl', 'rb') as f:\n",
    "    G_finetuneonly = pickle.load(f)\n",
    "\n",
    "# For every row in df, append the fullJson from the df to the node in G\n",
    "for index, row in df.iterrows():\n",
    "    model_id = row['modelId']\n",
    "    G_finetuneonly.nodes[model_id]['full_json'] = row['fullJson']\n",
    "\n",
    "# Save the graph\n",
    "with open('data/ai_ecosystem_graph_finetune_fulljson.pkl', 'wb') as f:\n",
    "    pickle.dump(G_finetuneonly, f)"
   ]
  },
  {
   "cell_type": "code",
   "execution_count": null,
   "id": "71478ff3",
   "metadata": {},
   "outputs": [],
   "source": []
  }
 ],
 "metadata": {
  "kernelspec": {
   "display_name": "venv",
   "language": "python",
   "name": "python3"
  },
  "language_info": {
   "codemirror_mode": {
    "name": "ipython",
    "version": 3
   },
   "file_extension": ".py",
   "mimetype": "text/x-python",
   "name": "python",
   "nbconvert_exporter": "python",
   "pygments_lexer": "ipython3",
   "version": "3.9.12"
  }
 },
 "nbformat": 4,
 "nbformat_minor": 5
}
