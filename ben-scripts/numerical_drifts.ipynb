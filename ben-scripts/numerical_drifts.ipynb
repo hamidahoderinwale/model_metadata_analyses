{
 "cells": [
  {
   "cell_type": "markdown",
   "id": "d103ce1e",
   "metadata": {},
   "source": [
    "# Numerical drifts\n",
    "\n",
    "Here we read in the network just to do a few, quick calculations of numerical drifts and mutations between parents and children. \n",
    "\n",
    "For example, we'd like to know: For parent-child pairs that report languages, what is the average percentage change in the number of languages reported? This will provide evidence of language specialization.\n",
    "\n",
    "We'd also like to know: What is the characteristic change in length of model card between pareret and child? What is the characteristic frequency of auto-generated model cards?"
   ]
  },
  {
   "cell_type": "code",
   "execution_count": null,
   "id": "da9f7c3a",
   "metadata": {},
   "outputs": [],
   "source": [
    "import numpy as np\n",
    "import pandas as pd\n",
    "import pickle\n",
    "import networkx as nx\n",
    "import ast\n",
    "from itertools import combinations\n",
    "import matplotlib.pyplot as plt\n",
    "from ordering_helpers import get_trait_list, get_trait_counter, get_trait_graph, append_total_appearances, get_trait_ratios, get_oriented_trait_graph, get_top_trait_graph, solve_max_compatible_ordering, solve_weighted_compatible_ordering, get_violating_edges, get_compatible_and_total_traffic\n",
    "import random\n",
    "import ast\n",
    "\n",
    "#with open('data/ai_ecosystem_graph_finetune_modelcards.pkl', 'rb') as f:\n",
    "#    G = pickle.load(f)\n",
    "\n",
    "with open('data/ai_ecosystem_graph_modelcards.pkl', 'rb') as f:\n",
    "    G = pickle.load(f)"
   ]
  },
  {
   "cell_type": "code",
   "execution_count": null,
   "id": "00ab38c8",
   "metadata": {},
   "outputs": [
    {
     "name": "stdout",
     "output_type": "stream",
     "text": [
      "{'likes': 0, 'downloads': 1, 'pipeline_tag': nan, 'library_name': nan, 'createdAt': '2024-09-02T20:04:31.000Z', 'licenses': \"['other']\", 'datasets': '[]', 'languages': '[]', 'modelCard': '---\\nlicense: other\\nlicense_name: flux-1-dev-non-commercial-license\\nlicense_link: https://huggingface.co/black-forest-labs/FLUX.1-dev/blob/main/LICENSE.md\\n---\\n', 'model_card_length_characters': 158, 'model_card_length_words': 8, 'model_card_automatically_generated': False}\n",
      "[]\n"
     ]
    }
   ],
   "source": [
    "# Define has_model_card and number_of_languages\n",
    "for node in G.nodes():\n",
    "    G.nodes[node]['has_model_card'] = False\n",
    "    if G.nodes[node]['model_card_length_characters']>3:\n",
    "        G.nodes[node]['has_model_card'] = True\n",
    "    G.nodes[node]['number_of_languages'] = len(get_trait_list(G.nodes[node], 'languages'))\n",
    "\n",
    "\n",
    "\n",
    "# Get the  "
   ]
  },
  {
   "cell_type": "code",
   "execution_count": null,
   "id": "d5882fb4",
   "metadata": {},
   "outputs": [
    {
     "name": "stdout",
     "output_type": "stream",
     "text": [
      "100000\n",
      "200000\n",
      "300000\n",
      "400000\n",
      "500000\n"
     ]
    }
   ],
   "source": [
    "edge_list = []\n",
    "parent_has_model_card = []\n",
    "child_has_model_card = []\n",
    "parent_has_auto_generated_model_card = []\n",
    "child_has_auto_generated_model_card = []\n",
    "parent_bespoke_card_length = []\n",
    "child_bespoke_card_length = []\n",
    "parent_has_languages = []\n",
    "child_has_languages = []\n",
    "\n",
    "count_missing_languages = 0\n",
    "counter = 0\n",
    "for edge in G.edges():\n",
    "    counter += 1\n",
    "    if counter % 100000 == 0: \n",
    "        print(counter)\n",
    "    edge_list.append(str(edge))\n",
    "    parent_has_model_card.append(G.nodes[edge[0]]['has_model_card'])\n",
    "    child_has_model_card.append(G.nodes[edge[1]]['has_model_card'])\n",
    "    parent_has_auto_generated_model_card.append(G.nodes[edge[0]]['model_card_automatically_generated'])\n",
    "    child_has_auto_generated_model_card.append(G.nodes[edge[1]]['model_card_automatically_generated'])\n",
    "    #parent_bespoke_card_length.append(None)\n",
    "    #child_bespoke_card_length.append(None)\n",
    "    if G.nodes[edge[0]]['model_card_automatically_generated']==False and G.nodes[edge[1]]['model_card_automatically_generated']==False and G.nodes[edge[0]]['has_model_card']==True and G.nodes[edge[1]]['has_model_card']==True:\n",
    "        parent_bespoke_card_length.append(G.nodes[edge[0]]['model_card_length_characters'])\n",
    "        child_bespoke_card_length.append(G.nodes[edge[1]]['model_card_length_characters'])\n",
    "    else:\n",
    "        parent_bespoke_card_length.append(None)\n",
    "        child_bespoke_card_length.append(None)\n",
    "\n",
    "    parent_has_languages.append(len(get_trait_list(G.nodes[edge[0]], 'languages'))>0)\n",
    "    child_has_languages.append(len(get_trait_list(G.nodes[edge[1]], 'languages'))>0)\n",
    "\n",
    "result_df = pd.DataFrame(columns = ['index'\n",
    "                                    , 'edge'\n",
    "                                    , 'parent_has_model_card'\n",
    "                                    , 'child_has_model_card'\n",
    "                                    , 'parent_has_auto_generated_model_card'\n",
    "                                    , 'child_has_auto_generated_model_card'\n",
    "                                    , 'parent_bespoke_card_length'\n",
    "                                    , 'child_bespoke_card_length'\n",
    "                                    , 'parent_has_languages'\n",
    "                                    , 'child_has_languages'\n",
    "                                    ])\n",
    "result_df['index'] = range(len(G.edges()))\n",
    "\n",
    "# Append the lists to the dataframe\n",
    "result_df['edge'] = edge_list\n",
    "result_df['parent_has_model_card'] = parent_has_model_card\n",
    "result_df['child_has_model_card'] = child_has_model_card\n",
    "result_df['parent_has_auto_generated_model_card'] = parent_has_auto_generated_model_card\n",
    "result_df['child_has_auto_generated_model_card'] = child_has_auto_generated_model_card\n",
    "result_df['parent_bespoke_card_length'] = parent_bespoke_card_length\n",
    "result_df['child_bespoke_card_length'] = child_bespoke_card_length\n",
    "result_df['parent_has_languages'] = parent_has_languages\n",
    "result_df['child_has_languages'] = child_has_languages\n"
   ]
  },
  {
   "cell_type": "code",
   "execution_count": null,
   "id": "f5a453fc",
   "metadata": {},
   "outputs": [],
   "source": [
    "result_df"
   ]
  },
  {
   "cell_type": "code",
   "execution_count": 28,
   "id": "bd62e0de",
   "metadata": {},
   "outputs": [
    {
     "name": "stdout",
     "output_type": "stream",
     "text": [
      "Change in probability of having a model card: \n",
      "-0.017376358181688145\n",
      "\n",
      "Change in probability of having an auto-generated model card | parent and child have model card: \n",
      "-0.24868054288280356\n",
      "\n"
     ]
    }
   ],
   "source": [
    "print(\"Change in probability of having a model card: \")\n",
    "print(np.mean(result_df['parent_has_model_card'].astype(int))-np.mean(result_df['child_has_model_card'].astype(int)))\n",
    "print()\n",
    "\n",
    "print(\"Change in probability of having an auto-generated model card | parent and child have model card: \")\n",
    "print(np.mean(result_df[(result_df['parent_has_model_card']==1)&(result_df['child_has_model_card']==1)]['parent_has_auto_generated_model_card'].astype(int))-np.mean(result_df[(result_df['parent_has_model_card']==1)&(result_df['child_has_model_card']==1)]['child_has_auto_generated_model_card'].astype(int)))\n",
    "print()\n",
    "\n",
    "#print(\"Change in probability of having a bespoke model card: \")\n",
    "#print(np.mean(result_df['parent_bespoke_card_length'].astype(int))-np.mean(result_df['child_bespoke_card_length'].astype(int)))\n",
    "#print()\n",
    "\n",
    "\n"
   ]
  },
  {
   "cell_type": "code",
   "execution_count": 18,
   "id": "4604110d",
   "metadata": {},
   "outputs": [
    {
     "name": "stdout",
     "output_type": "stream",
     "text": [
      "Mean percentage change from parent to child bespoke card length: 93.25761509667045\n"
     ]
    }
   ],
   "source": [
    "# Filter out rows where parent_bespoke_card_length or child_bespoke_card_length is None\n",
    "valid_rows = result_df.dropna(subset=['parent_bespoke_card_length', 'child_bespoke_card_length'])\n",
    "\n",
    "# Calculate the percentage change\n",
    "percent_changes = ((valid_rows['child_bespoke_card_length'] - valid_rows['parent_bespoke_card_length']) / valid_rows['parent_bespoke_card_length']) * 100\n",
    "\n",
    "# Calculate the mean percentage change\n",
    "mean_percent_change = percent_changes.mean()\n",
    "\n",
    "print(\"Mean percentage change from parent to child bespoke card length:\", mean_percent_change)\n"
   ]
  },
  {
   "cell_type": "code",
   "execution_count": null,
   "id": "9653127e",
   "metadata": {},
   "outputs": [],
   "source": []
  },
  {
   "cell_type": "code",
   "execution_count": 12,
   "id": "45a43038",
   "metadata": {},
   "outputs": [
    {
     "name": "stdout",
     "output_type": "stream",
     "text": [
      "Average percent change in languages:  -0.03584345502478219\n",
      "Average percent change in model card characters:  0.9325761509667044\n",
      "Average percent change in model card words:  0.6478000865822037\n",
      "Average percent change in model card automatically generated:  0.24868054288280358\n",
      "Average percent change in has model card:  0.017376358181688232\n",
      "Count missing languages:  457993\n"
     ]
    }
   ],
   "source": [
    "print(\"Average percent change in languages: \", np.mean(percent_change_in_languages))\n",
    "print(\"Average percent change in model card characters: \", np.mean(percent_change_in_model_card_characters))\n",
    "print(\"Average percent change in model card words: \", np.mean(percent_change_in_model_card_words))\n",
    "print(\"Average percent change in model card automatically generated: \", np.mean(percent_change_in_model_card_automatically_generated))\n",
    "print(\"Average percent change in has model card: \", np.mean(percent_change_in_has_model_card))\n",
    "print(\"Count missing languages: \", count_missing_languages)"
   ]
  },
  {
   "cell_type": "code",
   "execution_count": 19,
   "id": "849b4f9e",
   "metadata": {},
   "outputs": [
    {
     "name": "stdout",
     "output_type": "stream",
     "text": [
      "0      1601473\n",
      "1       229135\n",
      "2        18510\n",
      "8         2579\n",
      "4         1429\n",
      "        ...   \n",
      "137          1\n",
      "54           1\n",
      "33           1\n",
      "100          1\n",
      "46           1\n",
      "Name: count, Length: 105, dtype: int64\n"
     ]
    }
   ],
   "source": [
    "number_of_languages = []\n",
    "\n",
    "for node in G.nodes():\n",
    "    number_of_languages.append(len(get_trait_list(G.nodes[node], 'languages')))\n",
    "\n",
    "# Value counts of number of languages\n",
    "print(pd.Series(number_of_languages).value_counts())"
   ]
  },
  {
   "cell_type": "code",
   "execution_count": null,
   "id": "23929c10",
   "metadata": {},
   "outputs": [],
   "source": []
  }
 ],
 "metadata": {
  "kernelspec": {
   "display_name": "venv",
   "language": "python",
   "name": "python3"
  },
  "language_info": {
   "codemirror_mode": {
    "name": "ipython",
    "version": 3
   },
   "file_extension": ".py",
   "mimetype": "text/x-python",
   "name": "python",
   "nbconvert_exporter": "python",
   "pygments_lexer": "ipython3",
   "version": "3.9.12"
  }
 },
 "nbformat": 4,
 "nbformat_minor": 5
}
